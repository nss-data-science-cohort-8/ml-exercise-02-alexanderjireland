{
 "cells": [
  {
   "cell_type": "markdown",
   "id": "390a8af8",
   "metadata": {},
   "source": [
    "## ml exercise 02"
   ]
  },
  {
   "cell_type": "code",
   "execution_count": 129,
   "id": "4da7cb5a",
   "metadata": {},
   "outputs": [],
   "source": [
    "# import statements\n",
    "\n",
    "import pandas as pd\n",
    "import numpy as np\n",
    "import matplotlib.pyplot as plt"
   ]
  },
  {
   "cell_type": "code",
   "execution_count": 130,
   "id": "7eeb2c37",
   "metadata": {},
   "outputs": [
    {
     "data": {
      "application/vnd.microsoft.datawrangler.viewer.v0+json": {
       "columns": [
        {
         "name": "index",
         "rawType": "int64",
         "type": "integer"
        },
        {
         "name": "PassengerId",
         "rawType": "int64",
         "type": "integer"
        },
        {
         "name": "Survived",
         "rawType": "int64",
         "type": "integer"
        },
        {
         "name": "Pclass",
         "rawType": "int64",
         "type": "integer"
        },
        {
         "name": "Name",
         "rawType": "object",
         "type": "string"
        },
        {
         "name": "Sex",
         "rawType": "object",
         "type": "string"
        },
        {
         "name": "Age",
         "rawType": "float64",
         "type": "float"
        },
        {
         "name": "SibSp",
         "rawType": "int64",
         "type": "integer"
        },
        {
         "name": "Parch",
         "rawType": "int64",
         "type": "integer"
        },
        {
         "name": "Ticket",
         "rawType": "object",
         "type": "string"
        },
        {
         "name": "Fare",
         "rawType": "float64",
         "type": "float"
        },
        {
         "name": "Cabin",
         "rawType": "object",
         "type": "unknown"
        },
        {
         "name": "Embarked",
         "rawType": "object",
         "type": "string"
        }
       ],
       "conversionMethod": "pd.DataFrame",
       "ref": "84717d22-295a-4940-883d-654a2cb7367e",
       "rows": [
        [
         "0",
         "1",
         "0",
         "3",
         "Braund, Mr. Owen Harris",
         "male",
         "22.0",
         "1",
         "0",
         "A/5 21171",
         "7.25",
         null,
         "S"
        ],
        [
         "1",
         "2",
         "1",
         "1",
         "Cumings, Mrs. John Bradley (Florence Briggs Thayer)",
         "female",
         "38.0",
         "1",
         "0",
         "PC 17599",
         "71.2833",
         "C85",
         "C"
        ],
        [
         "2",
         "3",
         "1",
         "3",
         "Heikkinen, Miss. Laina",
         "female",
         "26.0",
         "0",
         "0",
         "STON/O2. 3101282",
         "7.925",
         null,
         "S"
        ],
        [
         "3",
         "4",
         "1",
         "1",
         "Futrelle, Mrs. Jacques Heath (Lily May Peel)",
         "female",
         "35.0",
         "1",
         "0",
         "113803",
         "53.1",
         "C123",
         "S"
        ],
        [
         "4",
         "5",
         "0",
         "3",
         "Allen, Mr. William Henry",
         "male",
         "35.0",
         "0",
         "0",
         "373450",
         "8.05",
         null,
         "S"
        ]
       ],
       "shape": {
        "columns": 12,
        "rows": 5
       }
      },
      "text/html": [
       "<div>\n",
       "<style scoped>\n",
       "    .dataframe tbody tr th:only-of-type {\n",
       "        vertical-align: middle;\n",
       "    }\n",
       "\n",
       "    .dataframe tbody tr th {\n",
       "        vertical-align: top;\n",
       "    }\n",
       "\n",
       "    .dataframe thead th {\n",
       "        text-align: right;\n",
       "    }\n",
       "</style>\n",
       "<table border=\"1\" class=\"dataframe\">\n",
       "  <thead>\n",
       "    <tr style=\"text-align: right;\">\n",
       "      <th></th>\n",
       "      <th>PassengerId</th>\n",
       "      <th>Survived</th>\n",
       "      <th>Pclass</th>\n",
       "      <th>Name</th>\n",
       "      <th>Sex</th>\n",
       "      <th>Age</th>\n",
       "      <th>SibSp</th>\n",
       "      <th>Parch</th>\n",
       "      <th>Ticket</th>\n",
       "      <th>Fare</th>\n",
       "      <th>Cabin</th>\n",
       "      <th>Embarked</th>\n",
       "    </tr>\n",
       "  </thead>\n",
       "  <tbody>\n",
       "    <tr>\n",
       "      <th>0</th>\n",
       "      <td>1</td>\n",
       "      <td>0</td>\n",
       "      <td>3</td>\n",
       "      <td>Braund, Mr. Owen Harris</td>\n",
       "      <td>male</td>\n",
       "      <td>22.0</td>\n",
       "      <td>1</td>\n",
       "      <td>0</td>\n",
       "      <td>A/5 21171</td>\n",
       "      <td>7.2500</td>\n",
       "      <td>NaN</td>\n",
       "      <td>S</td>\n",
       "    </tr>\n",
       "    <tr>\n",
       "      <th>1</th>\n",
       "      <td>2</td>\n",
       "      <td>1</td>\n",
       "      <td>1</td>\n",
       "      <td>Cumings, Mrs. John Bradley (Florence Briggs Th...</td>\n",
       "      <td>female</td>\n",
       "      <td>38.0</td>\n",
       "      <td>1</td>\n",
       "      <td>0</td>\n",
       "      <td>PC 17599</td>\n",
       "      <td>71.2833</td>\n",
       "      <td>C85</td>\n",
       "      <td>C</td>\n",
       "    </tr>\n",
       "    <tr>\n",
       "      <th>2</th>\n",
       "      <td>3</td>\n",
       "      <td>1</td>\n",
       "      <td>3</td>\n",
       "      <td>Heikkinen, Miss. Laina</td>\n",
       "      <td>female</td>\n",
       "      <td>26.0</td>\n",
       "      <td>0</td>\n",
       "      <td>0</td>\n",
       "      <td>STON/O2. 3101282</td>\n",
       "      <td>7.9250</td>\n",
       "      <td>NaN</td>\n",
       "      <td>S</td>\n",
       "    </tr>\n",
       "    <tr>\n",
       "      <th>3</th>\n",
       "      <td>4</td>\n",
       "      <td>1</td>\n",
       "      <td>1</td>\n",
       "      <td>Futrelle, Mrs. Jacques Heath (Lily May Peel)</td>\n",
       "      <td>female</td>\n",
       "      <td>35.0</td>\n",
       "      <td>1</td>\n",
       "      <td>0</td>\n",
       "      <td>113803</td>\n",
       "      <td>53.1000</td>\n",
       "      <td>C123</td>\n",
       "      <td>S</td>\n",
       "    </tr>\n",
       "    <tr>\n",
       "      <th>4</th>\n",
       "      <td>5</td>\n",
       "      <td>0</td>\n",
       "      <td>3</td>\n",
       "      <td>Allen, Mr. William Henry</td>\n",
       "      <td>male</td>\n",
       "      <td>35.0</td>\n",
       "      <td>0</td>\n",
       "      <td>0</td>\n",
       "      <td>373450</td>\n",
       "      <td>8.0500</td>\n",
       "      <td>NaN</td>\n",
       "      <td>S</td>\n",
       "    </tr>\n",
       "  </tbody>\n",
       "</table>\n",
       "</div>"
      ],
      "text/plain": [
       "   PassengerId  Survived  Pclass  \\\n",
       "0            1         0       3   \n",
       "1            2         1       1   \n",
       "2            3         1       3   \n",
       "3            4         1       1   \n",
       "4            5         0       3   \n",
       "\n",
       "                                                Name     Sex   Age  SibSp  \\\n",
       "0                            Braund, Mr. Owen Harris    male  22.0      1   \n",
       "1  Cumings, Mrs. John Bradley (Florence Briggs Th...  female  38.0      1   \n",
       "2                             Heikkinen, Miss. Laina  female  26.0      0   \n",
       "3       Futrelle, Mrs. Jacques Heath (Lily May Peel)  female  35.0      1   \n",
       "4                           Allen, Mr. William Henry    male  35.0      0   \n",
       "\n",
       "   Parch            Ticket     Fare Cabin Embarked  \n",
       "0      0         A/5 21171   7.2500   NaN        S  \n",
       "1      0          PC 17599  71.2833   C85        C  \n",
       "2      0  STON/O2. 3101282   7.9250   NaN        S  \n",
       "3      0            113803  53.1000  C123        S  \n",
       "4      0            373450   8.0500   NaN        S  "
      ]
     },
     "execution_count": 130,
     "metadata": {},
     "output_type": "execute_result"
    }
   ],
   "source": [
    "# initialize titanic dataframe\n",
    "titanic = pd.read_csv(\"../data/titanic.csv\")\n",
    "titanic.head()"
   ]
  },
  {
   "cell_type": "markdown",
   "id": "01fa70e7",
   "metadata": {},
   "source": [
    "In this exercise, you'll be working with a dataset containing information about passengers on the Titanic. You can get more information about this dataset here. Our goal will be to build a model to predict whether a passenger survived the voyage.\n",
    "\n",
    "Let's start by building a model using Age as a predictor variable.\n",
    "\n",
    "When performing a train/test split, you usually want to make sure that the ratios of target values look the same in the training set and in the test set. This is especially true with imbalanced targets, where there are more observations in one class than the other. This can be done by, instead of a completely random split, by performing a stratified split.\n",
    "\n",
    "1. Create a DataFrame, X, which contains one column, Age, and a Series, y, which contains the target variable. Perform a 70/30 train/test split, stratifying by the target variable. Make sure that you set a random_state during this split."
   ]
  },
  {
   "cell_type": "code",
   "execution_count": 131,
   "id": "d76feea3",
   "metadata": {},
   "outputs": [],
   "source": [
    "from sklearn.model_selection import train_test_split\n",
    "\n",
    "# specify target and predictor(s)\n",
    "predictors = ['Age']\n",
    "target = 'Survived'\n",
    "\n",
    "X = titanic[predictors]\n",
    "y = titanic[target]\n",
    "\n",
    "# train, test, split titanic data\n",
    "X_train, X_test, y_train, y_test = train_test_split(X, y, test_size=.3, random_state=42, stratify=y)"
   ]
  },
  {
   "cell_type": "markdown",
   "id": "a3cd3d65",
   "metadata": {},
   "source": [
    "2. Now, try and fit a logistic regression model using the LogisticRegression class. When you do this, you're likely to encounter an error, that \"Input X contains NaN.\" If you check, you'll find that there are some missing values in the Age column. In the next step, we'll address this issue."
   ]
  },
  {
   "cell_type": "code",
   "execution_count": 132,
   "id": "7ecf2051",
   "metadata": {},
   "outputs": [
    {
     "data": {
      "text/plain": [
       "'\\nlogreg = LogisticRegression()\\nlogreg.fit(X_train, y_train)\\n'"
      ]
     },
     "execution_count": 132,
     "metadata": {},
     "output_type": "execute_result"
    }
   ],
   "source": [
    "from sklearn.linear_model import LogisticRegression\n",
    "\n",
    "\"\"\"\n",
    "logreg = LogisticRegression()\n",
    "logreg.fit(X_train, y_train)\n",
    "\"\"\""
   ]
  },
  {
   "cell_type": "markdown",
   "id": "95c9ec31",
   "metadata": {},
   "source": [
    "One option when a column contains missing values is to impute them, meaning to replace the missing values with an estimate. A simple way to impute is to fill missing values using the mean value. Important Note: When imputing with the mean, you should calculate the mean value only on the training data. In order to have an unbiased estimate of model performance, it is important that the model has access to no information about the test set.\n",
    "\n",
    "3. Using a SimpleImputer, fit the training data and then use it to transform both the training and test data."
   ]
  },
  {
   "cell_type": "code",
   "execution_count": 133,
   "id": "ead6d175",
   "metadata": {},
   "outputs": [
    {
     "name": "stdout",
     "output_type": "stream",
     "text": [
      "[[61.        ]\n",
      " [19.        ]\n",
      " [30.04547619]\n",
      " [27.        ]\n",
      " [45.        ]\n",
      " [70.        ]\n",
      " [30.04547619]\n",
      " [23.        ]\n",
      " [30.        ]\n",
      " [19.        ]\n",
      " [30.04547619]\n",
      " [16.        ]\n",
      " [30.04547619]\n",
      " [62.        ]\n",
      " [ 8.        ]\n",
      " [50.        ]\n",
      " [30.04547619]\n",
      " [30.        ]\n",
      " [27.        ]\n",
      " [28.        ]\n",
      " [41.        ]\n",
      " [45.5       ]\n",
      " [27.        ]\n",
      " [27.        ]\n",
      " [16.        ]\n",
      " [30.04547619]\n",
      " [30.04547619]\n",
      " [40.        ]\n",
      " [ 2.        ]\n",
      " [31.        ]\n",
      " [34.        ]\n",
      " [42.        ]\n",
      " [30.04547619]\n",
      " [50.        ]\n",
      " [29.        ]\n",
      " [18.        ]\n",
      " [30.04547619]\n",
      " [60.        ]\n",
      " [30.04547619]\n",
      " [40.        ]\n",
      " [30.04547619]\n",
      " [ 2.        ]\n",
      " [ 9.        ]\n",
      " [30.04547619]\n",
      " [43.        ]\n",
      " [30.        ]\n",
      " [30.04547619]\n",
      " [ 9.        ]\n",
      " [19.        ]\n",
      " [30.04547619]\n",
      " [52.        ]\n",
      " [48.        ]\n",
      " [30.04547619]\n",
      " [60.        ]\n",
      " [22.        ]\n",
      " [25.        ]\n",
      " [30.04547619]\n",
      " [30.04547619]\n",
      " [45.        ]\n",
      " [54.        ]\n",
      " [30.04547619]\n",
      " [19.        ]\n",
      " [23.        ]\n",
      " [25.        ]\n",
      " [47.        ]\n",
      " [18.        ]\n",
      " [21.        ]\n",
      " [33.        ]\n",
      " [33.        ]\n",
      " [25.        ]\n",
      " [53.        ]\n",
      " [21.        ]\n",
      " [26.        ]\n",
      " [30.04547619]\n",
      " [24.        ]\n",
      " [20.        ]\n",
      " [48.        ]\n",
      " [25.        ]\n",
      " [24.        ]\n",
      " [24.        ]\n",
      " [30.04547619]\n",
      " [30.04547619]\n",
      " [24.        ]\n",
      " [23.5       ]\n",
      " [34.5       ]\n",
      " [27.        ]\n",
      " [30.04547619]\n",
      " [ 2.        ]\n",
      " [30.04547619]\n",
      " [62.        ]\n",
      " [26.        ]\n",
      " [27.        ]\n",
      " [30.04547619]\n",
      " [34.        ]\n",
      " [30.04547619]\n",
      " [ 0.75      ]\n",
      " [24.        ]\n",
      " [30.04547619]\n",
      " [30.04547619]\n",
      " [30.04547619]\n",
      " [37.        ]\n",
      " [ 4.        ]\n",
      " [16.        ]\n",
      " [33.        ]\n",
      " [36.5       ]\n",
      " [46.        ]\n",
      " [35.        ]\n",
      " [40.5       ]\n",
      " [30.        ]\n",
      " [18.        ]\n",
      " [20.        ]\n",
      " [36.        ]\n",
      " [ 1.        ]\n",
      " [ 2.        ]\n",
      " [ 9.        ]\n",
      " [30.04547619]\n",
      " [49.        ]\n",
      " [15.        ]\n",
      " [36.        ]\n",
      " [30.        ]\n",
      " [28.        ]\n",
      " [50.        ]\n",
      " [45.        ]\n",
      " [39.        ]\n",
      " [17.        ]\n",
      " [24.        ]\n",
      " [28.        ]\n",
      " [ 9.        ]\n",
      " [56.        ]\n",
      " [30.04547619]\n",
      " [25.        ]\n",
      " [30.04547619]\n",
      " [30.        ]\n",
      " [20.        ]\n",
      " [38.        ]\n",
      " [21.        ]\n",
      " [35.        ]\n",
      " [30.04547619]\n",
      " [ 2.        ]\n",
      " [25.        ]\n",
      " [16.        ]\n",
      " [58.        ]\n",
      " [30.04547619]\n",
      " [62.        ]\n",
      " [31.        ]\n",
      " [25.        ]\n",
      " [11.        ]\n",
      " [30.04547619]\n",
      " [30.04547619]\n",
      " [30.04547619]\n",
      " [25.        ]\n",
      " [28.        ]\n",
      " [18.        ]\n",
      " [21.        ]\n",
      " [21.        ]\n",
      " [42.        ]\n",
      " [20.        ]\n",
      " [27.        ]\n",
      " [28.        ]\n",
      " [30.04547619]\n",
      " [64.        ]\n",
      " [16.        ]\n",
      " [17.        ]\n",
      " [22.        ]\n",
      " [30.04547619]\n",
      " [10.        ]\n",
      " [55.5       ]\n",
      " [ 2.        ]\n",
      " [30.04547619]\n",
      " [63.        ]\n",
      " [42.        ]\n",
      " [36.        ]\n",
      " [31.        ]\n",
      " [30.04547619]\n",
      " [23.        ]\n",
      " [14.        ]\n",
      " [30.04547619]\n",
      " [16.        ]\n",
      " [30.04547619]\n",
      " [27.        ]\n",
      " [30.04547619]\n",
      " [39.        ]\n",
      " [17.        ]\n",
      " [29.        ]\n",
      " [30.04547619]\n",
      " [35.        ]\n",
      " [30.04547619]\n",
      " [24.5       ]\n",
      " [31.        ]\n",
      " [15.        ]\n",
      " [25.        ]\n",
      " [30.04547619]\n",
      " [25.        ]\n",
      " [14.        ]\n",
      " [30.04547619]\n",
      " [24.        ]\n",
      " [28.        ]\n",
      " [19.        ]\n",
      " [58.        ]\n",
      " [31.        ]\n",
      " [27.        ]\n",
      " [21.        ]\n",
      " [44.        ]\n",
      " [30.04547619]\n",
      " [39.        ]\n",
      " [23.        ]\n",
      " [14.        ]\n",
      " [27.        ]\n",
      " [24.        ]\n",
      " [11.        ]\n",
      " [25.        ]\n",
      " [ 9.        ]\n",
      " [44.        ]\n",
      " [16.        ]\n",
      " [26.        ]\n",
      " [30.5       ]\n",
      " [14.        ]\n",
      " [35.        ]\n",
      " [16.        ]\n",
      " [28.        ]\n",
      " [31.        ]\n",
      " [30.04547619]\n",
      " [29.        ]\n",
      " [30.04547619]\n",
      " [30.        ]\n",
      " [60.        ]\n",
      " [25.        ]\n",
      " [ 3.        ]\n",
      " [29.        ]\n",
      " [29.        ]\n",
      " [35.        ]\n",
      " [18.        ]\n",
      " [34.        ]\n",
      " [30.04547619]\n",
      " [18.        ]\n",
      " [47.        ]\n",
      " [24.        ]\n",
      " [30.04547619]\n",
      " [25.        ]\n",
      " [28.5       ]\n",
      " [44.        ]\n",
      " [35.        ]\n",
      " [33.        ]\n",
      " [34.        ]\n",
      " [26.        ]\n",
      " [30.04547619]\n",
      " [ 2.        ]\n",
      " [31.        ]\n",
      " [17.        ]\n",
      " [30.04547619]\n",
      " [11.        ]\n",
      " [30.04547619]\n",
      " [18.        ]\n",
      " [29.        ]\n",
      " [30.04547619]\n",
      " [ 2.        ]\n",
      " [55.        ]\n",
      " [54.        ]\n",
      " [28.        ]\n",
      " [36.        ]\n",
      " [30.04547619]\n",
      " [46.        ]\n",
      " [30.04547619]\n",
      " [ 4.        ]\n",
      " [27.        ]\n",
      " [21.        ]\n",
      " [33.        ]\n",
      " [36.        ]]\n"
     ]
    }
   ],
   "source": [
    "from sklearn.impute import SimpleImputer\n",
    "\n",
    "# initialize imputer using mean values as fill values\n",
    "imputer = SimpleImputer(missing_values=np.nan, strategy='mean')\n",
    "imputer.fit(X_train)\n",
    "X_train = imputer.transform(X_train)\n",
    "X_test = imputer.transform(X_test)\n",
    "\n",
    "# print training data (to see average values where NANs existed previously)\n",
    "print(X_test)"
   ]
  },
  {
   "cell_type": "markdown",
   "id": "76554aa8",
   "metadata": {},
   "source": [
    "4. Now, fit your logistic regression model to the training data and generate predictions on the test data."
   ]
  },
  {
   "cell_type": "code",
   "execution_count": 134,
   "id": "5ddba386",
   "metadata": {},
   "outputs": [
    {
     "name": "stdout",
     "output_type": "stream",
     "text": [
      "[[-0.01594324]]\n",
      "[-0.00044972]\n"
     ]
    }
   ],
   "source": [
    "# initialize and fit Logistic Regression model\n",
    "logreg = LogisticRegression()\n",
    "logreg.fit(X_train, y_train)\n",
    "\n",
    "# predict on test data\n",
    "y_pred = logreg.predict(X_test)\n",
    "\n",
    "# print model coefficient and intercept\n",
    "print(logreg.coef_)\n",
    "print(logreg.intercept_)"
   ]
  },
  {
   "cell_type": "markdown",
   "id": "8376c6fc",
   "metadata": {},
   "source": [
    "There are multiple ways we can assess the performance of a classification model. A common way is put those predictions into a confusion matrix, which compares the predicted and actual values.\n",
    "\n",
    "5. Create a confusion matrix out of the predictions. What do you find?"
   ]
  },
  {
   "cell_type": "code",
   "execution_count": 135,
   "id": "cf63bb72",
   "metadata": {},
   "outputs": [
    {
     "name": "stdout",
     "output_type": "stream",
     "text": [
      "[[165   0]\n",
      " [103   0]]\n"
     ]
    }
   ],
   "source": [
    "from sklearn.metrics import *\n",
    "\n",
    "# print the confusion matrix of the model\n",
    "print(confusion_matrix(y_test, y_pred))"
   ]
  },
  {
   "cell_type": "markdown",
   "id": "c63d4f5c",
   "metadata": {},
   "source": [
    "It looks like the model always predicted that the passenger wouldn't survive, so there is nothing in that column."
   ]
  },
  {
   "cell_type": "markdown",
   "id": "4e623af5",
   "metadata": {},
   "source": [
    "6. Plot the ROC curve. How well does your model do? Hint: You can use the RocCurveDisplay to create this plot."
   ]
  },
  {
   "cell_type": "code",
   "execution_count": 136,
   "id": "2646fa79",
   "metadata": {},
   "outputs": [
    {
     "name": "stdout",
     "output_type": "stream",
     "text": [
      "ROC AUC:  0.5\n"
     ]
    },
    {
     "data": {
      "image/png": "[encoded data removed]",
      "text/plain": [
       "<Figure size 640x480 with 1 Axes>"
      ]
     },
     "metadata": {},
     "output_type": "display_data"
    }
   ],
   "source": [
    "# calculate false positive rate and true positive rate of model\n",
    "fpr, tpr, thresholds = roc_curve(y_test, y_pred)\n",
    "\n",
    "# calculate AUC (area under the curve)\n",
    "roc_auc = roc_auc_score(y_test, y_pred)\n",
    "print(\"ROC AUC: \", roc_auc)\n",
    "\n",
    "# plot ROC curve\n",
    "plt.plot(fpr, tpr)\n",
    "plt.xlabel('False Positive Rate')\n",
    "plt.ylabel('True Positive Rate')\n",
    "plt.title('ROC Curve');"
   ]
  },
  {
   "cell_type": "markdown",
   "id": "5cfa3048",
   "metadata": {},
   "source": [
    "You are likely to see that the model does not tend to predict that individuals survived the voyage. Let's see if we can determine why.\n",
    "\n",
    "7. Look at the average age of survivors vs. those that did not survive the voyage. What do you find?"
   ]
  },
  {
   "cell_type": "code",
   "execution_count": 137,
   "id": "dd29c8b0",
   "metadata": {},
   "outputs": [
    {
     "name": "stdout",
     "output_type": "stream",
     "text": [
      "Average age of survivors:  28.343689655172415\n",
      "Average age of non-survivors:  30.62617924528302\n"
     ]
    }
   ],
   "source": [
    "# calculate average age of survivors and non-survivors\n",
    "avg_age_survived = titanic[titanic['Survived'] == 1]['Age'].mean()\n",
    "avg_age_died = titanic[titanic['Survived'] == 0]['Age'].mean()\n",
    "\n",
    "# print average age of survivors and non-survivors\n",
    "print('Average age of survivors: ', avg_age_survived)\n",
    "print('Average age of non-survivors: ', avg_age_died)"
   ]
  },
  {
   "cell_type": "markdown",
   "id": "4d48422c",
   "metadata": {},
   "source": [
    "It seems that the average age of non-survivors is over two years older than the average age of the survivors!"
   ]
  },
  {
   "cell_type": "markdown",
   "id": "5683c28a",
   "metadata": {},
   "source": [
    "8. Perhaps the actual age number is as important as whether a passenger was a child or an adult. Create a Boolean column that indicates whether a passenger was a child or an adult. Pick a cutoff age and if they were less than this age, label as a child. We'll see later on how we can make choosing the age part of our model building pipeline, but for now, choose an age or do some calculations to pick an age that you think might do well."
   ]
  },
  {
   "cell_type": "code",
   "execution_count": 138,
   "id": "24d559b5",
   "metadata": {},
   "outputs": [],
   "source": [
    "# specify child cutoff age\n",
    "child_cutoff_age = 18\n",
    "\n",
    "# use np.where to create a boolean Child column\n",
    "titanic['Child'] = np.where(titanic['Age'] < child_cutoff_age, True, False)"
   ]
  },
  {
   "cell_type": "markdown",
   "id": "aca891f6",
   "metadata": {},
   "source": [
    "9. When imputing the missing values, you'll need to change the strategy from mean to most_frequent. Impute the missing values, then fit the model using this new variable, generate predictions, and view the confusion matrix. How did your model do?"
   ]
  },
  {
   "cell_type": "code",
   "execution_count": 139,
   "id": "28c58342",
   "metadata": {},
   "outputs": [
    {
     "name": "stdout",
     "output_type": "stream",
     "text": [
      "[[143  22]\n",
      " [ 84  19]]\n"
     ]
    }
   ],
   "source": [
    "# specify target and predictor(s)\n",
    "predictors = ['Child']\n",
    "target = 'Survived'\n",
    "\n",
    "X = titanic[predictors].astype(int)\n",
    "y = titanic[target]\n",
    "\n",
    "X_train, X_test, y_train, y_test = train_test_split(X, y, test_size=.3, random_state=42, stratify=y)\n",
    "\n",
    "imputer = SimpleImputer(missing_values=np.nan, strategy='most_frequent')\n",
    "X_train = imputer.fit_transform(X_train)\n",
    "X_test = imputer.transform(X_test) # do not want to refit to the test data, use train data\n",
    "\n",
    "# initializing our logistic regression model\n",
    "logreg = LogisticRegression()\n",
    "logreg.fit(X_train, y_train)\n",
    "y_pred = logreg.predict(X_test)\n",
    "\n",
    "# print confusion matrix for model\n",
    "print(confusion_matrix(y_test, y_pred))"
   ]
  },
  {
   "cell_type": "markdown",
   "id": "adf50c39",
   "metadata": {},
   "source": [
    "Well, it seems that the model does slightly better, but a lot of false positives still."
   ]
  },
  {
   "cell_type": "markdown",
   "id": "78fce00a",
   "metadata": {},
   "source": [
    "Other common metrics for classification include accuracy, precision, and recall. For more information, see https://developers.google.com/machine-learning/crash-course/classification/accuracy-precision-recall. These metrics can be viewed using the classification_report function.\n",
    "\n",
    "10. Generate a classification report for your model."
   ]
  },
  {
   "cell_type": "code",
   "execution_count": 140,
   "id": "dde9920f",
   "metadata": {},
   "outputs": [
    {
     "name": "stdout",
     "output_type": "stream",
     "text": [
      "              precision    recall  f1-score   support\n",
      "\n",
      "           0       0.63      0.87      0.73       165\n",
      "           1       0.46      0.18      0.26       103\n",
      "\n",
      "    accuracy                           0.60       268\n",
      "   macro avg       0.55      0.53      0.50       268\n",
      "weighted avg       0.57      0.60      0.55       268\n",
      "\n"
     ]
    }
   ],
   "source": [
    "# print confusion matrix for model\n",
    "print(classification_report(y_test, y_pred))"
   ]
  },
  {
   "cell_type": "markdown",
   "id": "29ce58cd",
   "metadata": {},
   "source": [
    "Another important variable is the Sex variable.\n",
    "\n",
    "11. Create a DataFrame, X, which contains one column, Sex, and a Series, y, which contains the target variable. Perform a 70/30 train/test split, stratifying by the target variable. Make sure that you set a random_state during this split."
   ]
  },
  {
   "cell_type": "code",
   "execution_count": 141,
   "id": "d5f0cd5d",
   "metadata": {},
   "outputs": [],
   "source": [
    "# specify target and predictor(s)\n",
    "predictors = ['Sex']\n",
    "target = 'Survived'\n",
    "\n",
    "X = titanic[predictors]\n",
    "y = titanic[target]\n",
    "\n",
    "# train, test, split titanic data\n",
    "X_train, X_test, y_train, y_test = train_test_split(X, y, test_size=.3, random_state=42, stratify=y)"
   ]
  },
  {
   "cell_type": "markdown",
   "id": "311bae90",
   "metadata": {},
   "source": [
    "If you inspect the Sex variable, you'll find that it is encoded as a string. We need to convert it to a numeric type so that our model can use it. We can do this using a OneHotEncoder.\n",
    "\n",
    "12. Fit a OneHotEncoder to the training data and then transform both the training and test sets. Fit a model and evaluate the performance of this model."
   ]
  },
  {
   "cell_type": "code",
   "execution_count": 142,
   "id": "c5e0bb6a",
   "metadata": {},
   "outputs": [
    {
     "name": "stdout",
     "output_type": "stream",
     "text": [
      "[[138  27]\n",
      " [ 33  70]]\n",
      "              precision    recall  f1-score   support\n",
      "\n",
      "           0       0.81      0.84      0.82       165\n",
      "           1       0.72      0.68      0.70       103\n",
      "\n",
      "    accuracy                           0.78       268\n",
      "   macro avg       0.76      0.76      0.76       268\n",
      "weighted avg       0.77      0.78      0.77       268\n",
      "\n"
     ]
    }
   ],
   "source": [
    "from sklearn.preprocessing import OneHotEncoder\n",
    "\n",
    "# one hot encoder breaking down our predictor variables\n",
    "\n",
    "encoder = OneHotEncoder(sparse_output=False, handle_unknown='ignore')\n",
    "X_train_encoded = encoder.fit_transform(X_train)\n",
    "X_test_encoded = encoder.transform(X_test)\n",
    "\n",
    "# initializing our logistic regression model\n",
    "logreg = LogisticRegression()\n",
    "logreg.fit(X_train_encoded, y_train)\n",
    "y_pred = logreg.predict(X_test_encoded)\n",
    "\n",
    "# print model metrics\n",
    "print(confusion_matrix(y_test, y_pred))\n",
    "print(classification_report(y_test, y_pred))"
   ]
  },
  {
   "cell_type": "markdown",
   "id": "ff3297b7",
   "metadata": {},
   "source": [
    "Notice how we have used different types of transformations, an imputer for the age-related variables and a OneHotEncoder for the Sex variable. When we need to use multiple types of transformations, a ColumnTransformer is useful.\n",
    "\n",
    "In the next part, we'll fit a model using both the Sex column and our column indicating whether the passenger was a child.\n",
    "\n",
    "13. Create a DataFrame, X, which contains two columns, Sex and the child indicator column, and a Series, y, which contains the target variable. Perform a 70/30 train/test split, stratifying by the target variable. Make sure that you set a random_state during this split. Then create a ColumnTransformer which will apply a SimpleImputer to the child column and a OneHotEncoder to the Sex column. Fit it on the training data and then transform the test data. Then fit a model on this and see how well it does."
   ]
  },
  {
   "cell_type": "code",
   "execution_count": 143,
   "id": "8447376e",
   "metadata": {},
   "outputs": [],
   "source": [
    "from sklearn.compose import ColumnTransformer\n",
    "\n",
    "# transforming Child column to a digestible type (int) for the SimpleImputer later on\n",
    "titanic['Child'] = titanic['Child'].astype(int)\n",
    "\n",
    "# specify target and predictor(s)\n",
    "predictors = ['Sex', 'Child']\n",
    "target = 'Survived'\n",
    "\n",
    "X = titanic[predictors]\n",
    "y = titanic[target]\n",
    "\n",
    "# train, test, split titanic data\n",
    "X_train, X_test, y_train, y_test = train_test_split(X, y, test_size=.3, random_state=42, stratify=y)"
   ]
  },
  {
   "cell_type": "code",
   "execution_count": 144,
   "id": "d0981460",
   "metadata": {},
   "outputs": [
    {
     "name": "stdout",
     "output_type": "stream",
     "text": [
      "[[138  27]\n",
      " [ 33  70]]\n",
      "              precision    recall  f1-score   support\n",
      "\n",
      "           0       0.81      0.84      0.82       165\n",
      "           1       0.72      0.68      0.70       103\n",
      "\n",
      "    accuracy                           0.78       268\n",
      "   macro avg       0.76      0.76      0.76       268\n",
      "weighted avg       0.77      0.78      0.77       268\n",
      "\n"
     ]
    }
   ],
   "source": [
    "# initalize column transformer\n",
    "ct = ColumnTransformer(\n",
    "    [('child_preprocess', SimpleImputer(missing_values=np.nan, strategy='most_frequent'), ['Child']),\n",
    "     ('sex_preprocess', OneHotEncoder(sparse_output=False, handle_unknown='ignore'), ['Sex'])]\n",
    ")\n",
    "\n",
    "# now apply transformer to X_train and X_test\n",
    "X_train_transformed = ct.fit_transform(X_train)\n",
    "X_test_transformed = ct.transform(X_test)\n",
    "\n",
    "# initializing our logistic regression model\n",
    "logreg = LogisticRegression()\n",
    "logreg.fit(X_train_encoded, y_train)\n",
    "y_pred = logreg.predict(X_test_encoded)\n",
    "\n",
    "# print model metrics\n",
    "print(confusion_matrix(y_test, y_pred))\n",
    "print(classification_report(y_test, y_pred))"
   ]
  },
  {
   "cell_type": "markdown",
   "id": "c2ff3b0c",
   "metadata": {},
   "source": [
    "Finally, let's see how we can do all of this in a slightly more compact manner. We can use a Pipeline which allows us to specify preprocessing steps (like the ColumnTransformer we used earlier) as well as the model we want to fit.\n",
    "\n",
    "14. Create a Pipeline which contains the ColumnTransformer and the LogisticRegression model."
   ]
  },
  {
   "cell_type": "code",
   "execution_count": null,
   "id": "b7f4e1a8",
   "metadata": {},
   "outputs": [
    {
     "name": "stdout",
     "output_type": "stream",
     "text": [
      "[[138  27]\n",
      " [ 33  70]]\n",
      "              precision    recall  f1-score   support\n",
      "\n",
      "           0       0.81      0.84      0.82       165\n",
      "           1       0.72      0.68      0.70       103\n",
      "\n",
      "    accuracy                           0.78       268\n",
      "   macro avg       0.76      0.76      0.76       268\n",
      "weighted avg       0.77      0.78      0.77       268\n",
      "\n"
     ]
    }
   ],
   "source": [
    "from sklearn.pipeline import Pipeline\n",
    "\n",
    "# initialize pipeline preprocessing steps\n",
    "imputer = SimpleImputer(missing_values=np.nan, strategy='most_frequent')\n",
    "encoder = OneHotEncoder(sparse_output=False, handle_unknown='ignore')\n",
    "logreg = LogisticRegression()\n",
    "\n",
    "# FIGURE OUT HOW TO USE COLUMN TRANSFORMER HERE\n",
    "\n",
    "# specify steps and create the pipeline\n",
    "steps = [('imputer', imputer),\n",
    "         ('encoder', encoder),\n",
    "         ('logreg', logreg)]\n",
    "\n",
    "pipeline = Pipeline(steps)\n",
    "\n",
    "# fit the pipeline to the training data\n",
    "pipeline.fit(X_train, y_train)\n",
    "\n",
    "# make predictions on the test set\n",
    "y_pred = pipeline.predict(X_test)\n",
    "\n",
    "# print model metrics\n",
    "print(confusion_matrix(y_test, y_pred))\n",
    "print(classification_report(y_test, y_pred))"
   ]
  },
  {
   "cell_type": "markdown",
   "id": "ffe48203",
   "metadata": {},
   "source": [
    "### Trying to make a better model on my own"
   ]
  },
  {
   "cell_type": "code",
   "execution_count": 146,
   "id": "17c035bb",
   "metadata": {},
   "outputs": [
    {
     "data": {
      "application/vnd.microsoft.datawrangler.viewer.v0+json": {
       "columns": [
        {
         "name": "index",
         "rawType": "int64",
         "type": "integer"
        },
        {
         "name": "PassengerId",
         "rawType": "int64",
         "type": "integer"
        },
        {
         "name": "Survived",
         "rawType": "int64",
         "type": "integer"
        },
        {
         "name": "Pclass",
         "rawType": "int64",
         "type": "integer"
        },
        {
         "name": "Name",
         "rawType": "object",
         "type": "string"
        },
        {
         "name": "Sex",
         "rawType": "object",
         "type": "string"
        },
        {
         "name": "Age",
         "rawType": "float64",
         "type": "float"
        },
        {
         "name": "SibSp",
         "rawType": "int64",
         "type": "integer"
        },
        {
         "name": "Parch",
         "rawType": "int64",
         "type": "integer"
        },
        {
         "name": "Ticket",
         "rawType": "object",
         "type": "string"
        },
        {
         "name": "Fare",
         "rawType": "float64",
         "type": "float"
        },
        {
         "name": "Cabin",
         "rawType": "object",
         "type": "unknown"
        },
        {
         "name": "Embarked",
         "rawType": "object",
         "type": "string"
        },
        {
         "name": "Child",
         "rawType": "int32",
         "type": "integer"
        }
       ],
       "conversionMethod": "pd.DataFrame",
       "ref": "a811f613-bbdc-489f-8212-1f357edafd4d",
       "rows": [
        [
         "0",
         "1",
         "0",
         "3",
         "Braund, Mr. Owen Harris",
         "male",
         "22.0",
         "1",
         "0",
         "A/5 21171",
         "7.25",
         null,
         "S",
         "0"
        ],
        [
         "1",
         "2",
         "1",
         "1",
         "Cumings, Mrs. John Bradley (Florence Briggs Thayer)",
         "female",
         "38.0",
         "1",
         "0",
         "PC 17599",
         "71.2833",
         "C85",
         "C",
         "0"
        ],
        [
         "2",
         "3",
         "1",
         "3",
         "Heikkinen, Miss. Laina",
         "female",
         "26.0",
         "0",
         "0",
         "STON/O2. 3101282",
         "7.925",
         null,
         "S",
         "0"
        ],
        [
         "3",
         "4",
         "1",
         "1",
         "Futrelle, Mrs. Jacques Heath (Lily May Peel)",
         "female",
         "35.0",
         "1",
         "0",
         "113803",
         "53.1",
         "C123",
         "S",
         "0"
        ],
        [
         "4",
         "5",
         "0",
         "3",
         "Allen, Mr. William Henry",
         "male",
         "35.0",
         "0",
         "0",
         "373450",
         "8.05",
         null,
         "S",
         "0"
        ]
       ],
       "shape": {
        "columns": 13,
        "rows": 5
       }
      },
      "text/html": [
       "<div>\n",
       "<style scoped>\n",
       "    .dataframe tbody tr th:only-of-type {\n",
       "        vertical-align: middle;\n",
       "    }\n",
       "\n",
       "    .dataframe tbody tr th {\n",
       "        vertical-align: top;\n",
       "    }\n",
       "\n",
       "    .dataframe thead th {\n",
       "        text-align: right;\n",
       "    }\n",
       "</style>\n",
       "<table border=\"1\" class=\"dataframe\">\n",
       "  <thead>\n",
       "    <tr style=\"text-align: right;\">\n",
       "      <th></th>\n",
       "      <th>PassengerId</th>\n",
       "      <th>Survived</th>\n",
       "      <th>Pclass</th>\n",
       "      <th>Name</th>\n",
       "      <th>Sex</th>\n",
       "      <th>Age</th>\n",
       "      <th>SibSp</th>\n",
       "      <th>Parch</th>\n",
       "      <th>Ticket</th>\n",
       "      <th>Fare</th>\n",
       "      <th>Cabin</th>\n",
       "      <th>Embarked</th>\n",
       "      <th>Child</th>\n",
       "    </tr>\n",
       "  </thead>\n",
       "  <tbody>\n",
       "    <tr>\n",
       "      <th>0</th>\n",
       "      <td>1</td>\n",
       "      <td>0</td>\n",
       "      <td>3</td>\n",
       "      <td>Braund, Mr. Owen Harris</td>\n",
       "      <td>male</td>\n",
       "      <td>22.0</td>\n",
       "      <td>1</td>\n",
       "      <td>0</td>\n",
       "      <td>A/5 21171</td>\n",
       "      <td>7.2500</td>\n",
       "      <td>NaN</td>\n",
       "      <td>S</td>\n",
       "      <td>0</td>\n",
       "    </tr>\n",
       "    <tr>\n",
       "      <th>1</th>\n",
       "      <td>2</td>\n",
       "      <td>1</td>\n",
       "      <td>1</td>\n",
       "      <td>Cumings, Mrs. John Bradley (Florence Briggs Th...</td>\n",
       "      <td>female</td>\n",
       "      <td>38.0</td>\n",
       "      <td>1</td>\n",
       "      <td>0</td>\n",
       "      <td>PC 17599</td>\n",
       "      <td>71.2833</td>\n",
       "      <td>C85</td>\n",
       "      <td>C</td>\n",
       "      <td>0</td>\n",
       "    </tr>\n",
       "    <tr>\n",
       "      <th>2</th>\n",
       "      <td>3</td>\n",
       "      <td>1</td>\n",
       "      <td>3</td>\n",
       "      <td>Heikkinen, Miss. Laina</td>\n",
       "      <td>female</td>\n",
       "      <td>26.0</td>\n",
       "      <td>0</td>\n",
       "      <td>0</td>\n",
       "      <td>STON/O2. 3101282</td>\n",
       "      <td>7.9250</td>\n",
       "      <td>NaN</td>\n",
       "      <td>S</td>\n",
       "      <td>0</td>\n",
       "    </tr>\n",
       "    <tr>\n",
       "      <th>3</th>\n",
       "      <td>4</td>\n",
       "      <td>1</td>\n",
       "      <td>1</td>\n",
       "      <td>Futrelle, Mrs. Jacques Heath (Lily May Peel)</td>\n",
       "      <td>female</td>\n",
       "      <td>35.0</td>\n",
       "      <td>1</td>\n",
       "      <td>0</td>\n",
       "      <td>113803</td>\n",
       "      <td>53.1000</td>\n",
       "      <td>C123</td>\n",
       "      <td>S</td>\n",
       "      <td>0</td>\n",
       "    </tr>\n",
       "    <tr>\n",
       "      <th>4</th>\n",
       "      <td>5</td>\n",
       "      <td>0</td>\n",
       "      <td>3</td>\n",
       "      <td>Allen, Mr. William Henry</td>\n",
       "      <td>male</td>\n",
       "      <td>35.0</td>\n",
       "      <td>0</td>\n",
       "      <td>0</td>\n",
       "      <td>373450</td>\n",
       "      <td>8.0500</td>\n",
       "      <td>NaN</td>\n",
       "      <td>S</td>\n",
       "      <td>0</td>\n",
       "    </tr>\n",
       "  </tbody>\n",
       "</table>\n",
       "</div>"
      ],
      "text/plain": [
       "   PassengerId  Survived  Pclass  \\\n",
       "0            1         0       3   \n",
       "1            2         1       1   \n",
       "2            3         1       3   \n",
       "3            4         1       1   \n",
       "4            5         0       3   \n",
       "\n",
       "                                                Name     Sex   Age  SibSp  \\\n",
       "0                            Braund, Mr. Owen Harris    male  22.0      1   \n",
       "1  Cumings, Mrs. John Bradley (Florence Briggs Th...  female  38.0      1   \n",
       "2                             Heikkinen, Miss. Laina  female  26.0      0   \n",
       "3       Futrelle, Mrs. Jacques Heath (Lily May Peel)  female  35.0      1   \n",
       "4                           Allen, Mr. William Henry    male  35.0      0   \n",
       "\n",
       "   Parch            Ticket     Fare Cabin Embarked  Child  \n",
       "0      0         A/5 21171   7.2500   NaN        S      0  \n",
       "1      0          PC 17599  71.2833   C85        C      0  \n",
       "2      0  STON/O2. 3101282   7.9250   NaN        S      0  \n",
       "3      0            113803  53.1000  C123        S      0  \n",
       "4      0            373450   8.0500   NaN        S      0  "
      ]
     },
     "execution_count": 146,
     "metadata": {},
     "output_type": "execute_result"
    }
   ],
   "source": [
    "titanic.head()"
   ]
  },
  {
   "cell_type": "code",
   "execution_count": 157,
   "id": "27f134e2",
   "metadata": {},
   "outputs": [],
   "source": [
    "# specify target and predictor(s)\n",
    "predictors = ['Sex', 'Child', 'Pclass', 'Cabin']\n",
    "target = 'Survived'\n",
    "\n",
    "X = titanic[predictors]\n",
    "y = titanic[target]\n",
    "\n",
    "# train, test, split titanic data\n",
    "X_train, X_test, y_train, y_test = train_test_split(X, y, test_size=.3, random_state=42, stratify=y)"
   ]
  },
  {
   "cell_type": "code",
   "execution_count": 158,
   "id": "ffcbca75",
   "metadata": {},
   "outputs": [
    {
     "name": "stdout",
     "output_type": "stream",
     "text": [
      "[[138  27]\n",
      " [ 30  73]]\n",
      "              precision    recall  f1-score   support\n",
      "\n",
      "           0       0.82      0.84      0.83       165\n",
      "           1       0.73      0.71      0.72       103\n",
      "\n",
      "    accuracy                           0.79       268\n",
      "   macro avg       0.78      0.77      0.77       268\n",
      "weighted avg       0.79      0.79      0.79       268\n",
      "\n"
     ]
    }
   ],
   "source": [
    "# initialize pipeline preprocessing steps\n",
    "imputer = SimpleImputer(missing_values=np.nan, strategy='most_frequent')\n",
    "encoder = OneHotEncoder(sparse_output=False, handle_unknown='ignore')\n",
    "logreg = LogisticRegression()\n",
    "\n",
    "# specify steps and create the pipeline\n",
    "steps = [('imputer', imputer),\n",
    "         ('encoder', encoder),\n",
    "         ('logreg', logreg)]\n",
    "\n",
    "pipeline = Pipeline(steps)\n",
    "\n",
    "# fit the pipeline to the training data\n",
    "pipeline.fit(X_train, y_train)\n",
    "\n",
    "# make predictions on the test set\n",
    "y_pred = pipeline.predict(X_test)\n",
    "\n",
    "# print model metrics\n",
    "print(confusion_matrix(y_test, y_pred))\n",
    "print(classification_report(y_test, y_pred))"
   ]
  }
 ],
 "metadata": {
  "kernelspec": {
   "display_name": "base",
   "language": "python",
   "name": "python3"
  },
  "language_info": {
   "codemirror_mode": {
    "name": "ipython",
    "version": 3
   },
   "file_extension": ".py",
   "mimetype": "text/x-python",
   "name": "python",
   "nbconvert_exporter": "python",
   "pygments_lexer": "ipython3",
   "version": "3.12.4"
  }
 },
 "nbformat": 4,
 "nbformat_minor": 5
}
